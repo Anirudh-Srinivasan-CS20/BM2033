{
  "nbformat": 4,
  "nbformat_minor": 0,
  "metadata": {
    "colab": {
      "provenance": []
    },
    "kernelspec": {
      "name": "python3",
      "display_name": "Python 3"
    },
    "language_info": {
      "name": "python"
    }
  },
  "cells": [
    {
      "cell_type": "markdown",
      "source": [
        "#                              Sentence Autocomplete Program\n",
        "###                       BM2033: Probability and Random Variables\n",
        "Anirudh Srinivasan (CS20BTECH11059)"
      ],
      "metadata": {
        "id": "rvj7-tOLSvRY"
      }
    },
    {
      "cell_type": "code",
      "execution_count": 32,
      "metadata": {
        "colab": {
          "base_uri": "https://localhost:8080/"
        },
        "id": "qrYTN5NsqQG0",
        "outputId": "4d1ee6a2-4e59-42d7-a6bf-74c582b6e1ea"
      },
      "outputs": [
        {
          "output_type": "stream",
          "name": "stderr",
          "text": [
            "[nltk_data] Downloading package punkt to /root/nltk_data...\n",
            "[nltk_data]   Package punkt is already up-to-date!\n"
          ]
        }
      ],
      "source": [
        "# Importing all the required libraries\n",
        "import nltk\n",
        "nltk.download('punkt')\n",
        "from urllib import request\n",
        "from nltk.tokenize import word_tokenize,sent_tokenize\n",
        "from collections import Counter"
      ]
    },
    {
      "cell_type": "code",
      "source": [
        "# Function to check the occurence of the given input in the corpus \n",
        "# The check is done to find if the last n words from the input is present where n belongs to {1, 2, 3}\n",
        "\n",
        "def check_occ(inp, words):\n",
        "    \"\"\"\n",
        "      Input: The given input phrase and the corpus\n",
        "      Ouput: Returns the appended list after checking occurence, returns an empty list if no word found\n",
        "    \"\"\"\n",
        "\n",
        "    dict_first = []\n",
        "    dict_second = []\n",
        "    dict_third = []\n",
        "    \n",
        "    if len(inp) >= 3:\n",
        "        for i in range(len(words)-3):\n",
        "            if words[i] == inp[len(inp)-3] and words[i+1] == inp[len(inp)-2] and words[i+2] == inp[len(inp)-1]:\n",
        "               dict_third.append(i+3)\n",
        "        if len(dict_third) != 0:\n",
        "            return dict_third\n",
        "\n",
        "    if (len(dict_third) == 0 or len(inp) < 3) and len(inp) > 1:\n",
        "        for i in range(len(words)-2):\n",
        "            if words[i] == inp[len(inp) - 2] and words[i+1] == inp[len(inp)-1]:\n",
        "                dict_second.append(i+2)\n",
        "        if len(dict_second) !=0:\n",
        "            return dict_second\n",
        "\n",
        "    if len(dict_third) == 0 and len(dict_second) == 0:\n",
        "        for i in range(len(words)-1):\n",
        "            if words[i] == inp[len(inp)-1]:\n",
        "                dict_first.append(i+1)\n",
        "        return dict_first"
      ],
      "metadata": {
        "id": "uom3B1elqZN0"
      },
      "execution_count": 33,
      "outputs": []
    },
    {
      "cell_type": "markdown",
      "source": [
        "This function first checks if the last 3 words are present, then checks if atleast last 2 words are present and then at last checks if atleast last word is present."
      ],
      "metadata": {
        "id": "VdL5wjDSToQP"
      }
    },
    {
      "cell_type": "code",
      "source": [
        "# Function to find the first word in the autocomplete sequence with the associated probability\n",
        "\n",
        "# It finds the most probable next 2 words for any given phrase through inp and returns the probability of occurence of next 2 words given the previous phrase\n",
        "\n",
        "def predictor(inp, words):\n",
        "    \"\"\"\n",
        "      Input: The given input phrase and the corpus\n",
        "      Ouput: Returns the predicted next word along with the probability\n",
        "    \"\"\"\n",
        "    \n",
        "    arr_ = check_occ(inp, words)\n",
        "    if len(arr_) == 0:     \n",
        "      return '','Undefined'\n",
        "    arr = []\n",
        "    for x in arr_:\n",
        "        arr.append(words[x])\n",
        "    a = Counter(arr)\n",
        "    pr = round(a[max(a,key= lambda x:a[x])]/sum(a.values()),3)\n",
        "    X = arr.index(max(a,key= lambda x:a[x]))\n",
        "    sugg_words = max(a,key= lambda x:a[x]) + \" \" + words[arr_[X]+1] \n",
        "    sugg_word = (sugg_words.split())[0]\n",
        "    return sugg_word, pr"
      ],
      "metadata": {
        "id": "0BoUWvg8qbTe"
      },
      "execution_count": 34,
      "outputs": []
    },
    {
      "cell_type": "markdown",
      "source": [
        "sugg_words has the next 2 suggested words. So, if this program is expanded to give predictions for phrases instead of words, then we may use this. Needless to say, we have to update the pr based on the conditional probability of getting the phrase appropriately."
      ],
      "metadata": {
        "id": "Jul925eVUIl9"
      }
    },
    {
      "cell_type": "code",
      "source": [
        "# Forming the entire corpus or dictionary of words from the given text files. This involves downloading and tokenising it.\n",
        "\n",
        "url = [\"http://www.gutenberg.org/files/2554/2554-0.txt\",\"https://www.gutenberg.org/files/2489/2489-0.txt\",\"https://www.gutenberg.org/files/48320/48320-0.txt\",\"https://www.gutenberg.org/files/120/120-0.txt\",\"https://www.gutenberg.org/files/76/76-0.txt\",\"https://www.gutenberg.org/files/345/345-0.txt\",\"https://www.gutenberg.org/files/98/98-0.txt\",\"https://www.gutenberg.org/files/514/514-0.txt\",\"https://www.gutenberg.org/files/1259/1259-0.txt\",\"https://www.gutenberg.org/files/2148/2148-0.txt\",\"https://www.gutenberg.org/files/16/16-0.txt\",\"https://www.gutenberg.org/files/730/730-0.txt\"]\n",
        "corpus = []\n",
        "\n",
        "for i in range(len(url)):\n",
        "    response = request.urlopen(url[i])\n",
        "    raw = response.read().decode('utf-8-sig')\n",
        "    words_list = word_tokenize(raw)\n",
        "    corpus.extend(words_list)\n",
        "    words_list = []"
      ],
      "metadata": {
        "id": "9iCB3imkqd_4"
      },
      "execution_count": 35,
      "outputs": []
    },
    {
      "cell_type": "markdown",
      "source": [
        "The above corpus has been formed from list of 12 books which are:\n",
        "12 books are considered for the corpus:\n",
        "1. Crime and Punishment by Fyodor Dostoevsky\n",
        "2. Moby Dick by Herman Melville\n",
        "3. Adventures of Sherlcok Holmes by Arthur Conan Doyle\n",
        "4. Treasure Island by RL Stevenson\n",
        "5. Adventures of Huckleberry Finn by Mark Twain\n",
        "6. Dracula by Bram Stoker\n",
        "7. A Tale of Two Cities by Charles Dickens\n",
        "8. Little Women by Louisa May Alcott\n",
        "9. Twenty Years After by Alexandre Dumas\n",
        "10. The Works of Edgar Allan Poe by Edgar Allan Poe\n",
        "11. Peter Pan by James M. Barrie\n",
        "12. Oliver Twist by Charles Dickens"
      ],
      "metadata": {
        "id": "Rj_Lt_xRShOo"
      }
    },
    {
      "cell_type": "code",
      "source": [
        "# Removing all special characters and converting all the words to lowercase to eliminate bias and repetition\n",
        "\n",
        "simpl_corpus = []\n",
        "\n",
        "for x in corpus:\n",
        "    if x[-1] == '.':\n",
        "      x = x.rstrip('.')\n",
        "    if x.isalpha():\n",
        "      simpl_corpus.append(x.lower())"
      ],
      "metadata": {
        "id": "zpB8iNAdqgRd"
      },
      "execution_count": 36,
      "outputs": []
    },
    {
      "cell_type": "markdown",
      "source": [
        "simpl_corpus is the simplified corpus after all conversions to remove repetitions. This is to make sure special characters aren't suggested....so our program can't predict punctuation as of now, and converting everything to lowercase prevents us from having same word twice once as starting word of a sentence (beggining with a capital letter) and once as a word in between a sentence (beginning with small letter)."
      ],
      "metadata": {
        "id": "Tmu444bVUmER"
      }
    },
    {
      "cell_type": "code",
      "source": [
        "# Reading the input from the test file\n",
        "\n",
        "string = []\n",
        "filename = \"AutoComplete.txt\"\n",
        "with open(filename) as f:\n",
        "    for line in f:\n",
        "      string.append(line.rstrip())"
      ],
      "metadata": {
        "id": "PiDtuKCcqiPY"
      },
      "execution_count": 37,
      "outputs": []
    },
    {
      "cell_type": "markdown",
      "source": [
        "The list string contains the 50 test samples in the text file hosted in 192.168.102.221:81/\n",
        "\n",
        "The filename has been changed from 'test_words.txt' to 'AutoComplete.txt' for the sake of convenience"
      ],
      "metadata": {
        "id": "PhTSRnHLVWKg"
      }
    },
    {
      "cell_type": "code",
      "source": [
        "# Output of the Sentence Autocomplete module\n",
        "\n",
        "for i in range(len(string)):\n",
        "    inp = []\n",
        "    for x in string[i].split():\n",
        "        if x.isalpha():\n",
        "            inp.append(x.lower())\n",
        "    print(string[i] + \"...\" + predictor(inp, simpl_corpus)[0])\n",
        "    print(\"Pr(Suggestion | Input Phrase) = \", predictor(inp, simpl_corpus)[1])"
      ],
      "metadata": {
        "id": "0fbRJyjuqkPn",
        "colab": {
          "base_uri": "https://localhost:8080/"
        },
        "outputId": "98aab190-87c3-459f-dfd8-09b5aa79fabf"
      },
      "execution_count": 38,
      "outputs": [
        {
          "output_type": "stream",
          "name": "stdout",
          "text": [
            "1. Practice makes a...man\n",
            "Pr(Suggestion | Input Phrase) =  0.133\n",
            "2. Like share and...when\n",
            "Pr(Suggestion | Input Phrase) =  0.167\n",
            "3. The list has...been\n",
            "Pr(Suggestion | Input Phrase) =  0.161\n",
            "4. She trekked towards...the\n",
            "Pr(Suggestion | Input Phrase) =  0.521\n",
            "5. Honesty is the...best\n",
            "Pr(Suggestion | Input Phrase) =  1.0\n",
            "6. I am short...and\n",
            "Pr(Suggestion | Input Phrase) =  0.098\n",
            "7. Thinking of Sanskrit...she\n",
            "Pr(Suggestion | Input Phrase) =  1.0\n",
            "8. This is a...very\n",
            "Pr(Suggestion | Input Phrase) =  0.092\n",
            "9. Plants have a...good\n",
            "Pr(Suggestion | Input Phrase) =  0.052\n",
            "10. No is a...mere\n",
            "Pr(Suggestion | Input Phrase) =  1.0\n",
            "11. Happy neurons generated...in\n",
            "Pr(Suggestion | Input Phrase) =  0.333\n",
            "12. No more excuses...to\n",
            "Pr(Suggestion | Input Phrase) =  0.286\n",
            "13. Coming all the...time\n",
            "Pr(Suggestion | Input Phrase) =  1.0\n",
            "14. Library with five...hundred\n",
            "Pr(Suggestion | Input Phrase) =  0.333\n",
            "15. And then there...was\n",
            "Pr(Suggestion | Input Phrase) =  0.286\n",
            "16. A sketcher in...the\n",
            "Pr(Suggestion | Input Phrase) =  0.269\n",
            "17. A body in...it\n",
            "Pr(Suggestion | Input Phrase) =  1.0\n",
            "18. That's the reason...why\n",
            "Pr(Suggestion | Input Phrase) =  0.25\n",
            "19. My birthday is...the\n",
            "Pr(Suggestion | Input Phrase) =  1.0\n",
            "20. I like this...room\n",
            "Pr(Suggestion | Input Phrase) =  1.0\n",
            "21. What a lovely...day\n",
            "Pr(Suggestion | Input Phrase) =  1.0\n",
            "22. I would rather...die\n",
            "Pr(Suggestion | Input Phrase) =  0.214\n",
            "23. I want to...see\n",
            "Pr(Suggestion | Input Phrase) =  0.088\n",
            "24. Do you like...to\n",
            "Pr(Suggestion | Input Phrase) =  0.2\n",
            "25. Put the toys...in\n",
            "Pr(Suggestion | Input Phrase) =  0.333\n",
            "26. Let us go...and\n",
            "Pr(Suggestion | Input Phrase) =  0.15\n",
            "27. She found a...little\n",
            "Pr(Suggestion | Input Phrase) =  1.0\n",
            "28. The ball is...over\n",
            "Pr(Suggestion | Input Phrase) =  1.0\n",
            "29. I have three...who\n",
            "Pr(Suggestion | Input Phrase) =  0.5\n",
            "30. Please pass the...night\n",
            "Pr(Suggestion | Input Phrase) =  0.184\n",
            "31. The birds flew...to\n",
            "Pr(Suggestion | Input Phrase) =  0.102\n",
            "32. The dog ran...to\n",
            "Pr(Suggestion | Input Phrase) =  0.139\n",
            "33. She sang a...serenade\n",
            "Pr(Suggestion | Input Phrase) =  1.0\n",
            "34. The girl went...to\n",
            "Pr(Suggestion | Input Phrase) =  0.5\n",
            "35. She ate french...and\n",
            "Pr(Suggestion | Input Phrase) =  0.053\n",
            "36. Please close the...door\n",
            "Pr(Suggestion | Input Phrase) =  0.286\n",
            "37. Winter season is...a\n",
            "Pr(Suggestion | Input Phrase) =  0.086\n",
            "38. My new laptop...\n",
            "Pr(Suggestion | Input Phrase) =  Undefined\n",
            "39. I like playing...then\n",
            "Pr(Suggestion | Input Phrase) =  1.0\n",
            "40. Do you know...that\n",
            "Pr(Suggestion | Input Phrase) =  0.138\n",
            "41. I want a...fortune\n",
            "Pr(Suggestion | Input Phrase) =  0.143\n",
            "42. The sun is...high\n",
            "Pr(Suggestion | Input Phrase) =  0.222\n",
            "43. Do you like...to\n",
            "Pr(Suggestion | Input Phrase) =  0.2\n",
            "44. Please wash your...hands\n",
            "Pr(Suggestion | Input Phrase) =  1.0\n",
            "45. I study in...scarlet\n",
            "Pr(Suggestion | Input Phrase) =  0.429\n",
            "46. He is my...friend\n",
            "Pr(Suggestion | Input Phrase) =  0.25\n",
            "47. I am so...glad\n",
            "Pr(Suggestion | Input Phrase) =  0.18\n",
            "48. Her dog likes...to\n",
            "Pr(Suggestion | Input Phrase) =  0.148\n",
            "49. My teacher is...a\n",
            "Pr(Suggestion | Input Phrase) =  0.086\n",
            "50. The book is...one\n",
            "Pr(Suggestion | Input Phrase) =  0.5\n"
          ]
        }
      ]
    }
  ]
}