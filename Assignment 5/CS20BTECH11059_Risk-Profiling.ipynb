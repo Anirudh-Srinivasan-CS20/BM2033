{
  "nbformat": 4,
  "nbformat_minor": 0,
  "metadata": {
    "colab": {
      "provenance": []
    },
    "kernelspec": {
      "name": "python3",
      "display_name": "Python 3"
    },
    "language_info": {
      "name": "python"
    }
  },
  "cells": [
    {
      "cell_type": "markdown",
      "source": [
        "#                              Risk Profiling\n",
        "###                       BM2033: Probability and Random Variables\n",
        "Anirudh Srinivasan (CS20BTECH11059)"
      ],
      "metadata": {
        "id": "yhEgp9LX8a_1"
      }
    },
    {
      "cell_type": "markdown",
      "source": [
        "# Importing Libraries"
      ],
      "metadata": {
        "id": "KEtWP0dYJWHU"
      }
    },
    {
      "cell_type": "code",
      "source": [
        "# Importing all the required libraries\n",
        "\n",
        "import numpy as np\n",
        "import matplotlib.pyplot as plt\n",
        "import random"
      ],
      "metadata": {
        "id": "10o_95dD8hgb"
      },
      "execution_count": 60,
      "outputs": []
    },
    {
      "cell_type": "markdown",
      "source": [
        "## Initializing the measured temperature values and other parameters of the error distributions\n",
        "\n",
        "This generates Normal Distributions for error for temperatures in 'temp_range' with intervals of 'interval'\n",
        "1. temp_range = 0 to 'x' deg C\n",
        "\n",
        "2. measured_temp: It stores all the measured temperature values\n",
        "\n",
        "3. values_per_marking: For each marking in the graph, how much values are considered\n",
        "\n",
        "4. temp_err_sigma: It stores the Standard Deviation of all Error Distributions for each value of temperature"
      ],
      "metadata": {
        "id": "jPfIAYxkJaJ_"
      }
    },
    {
      "cell_type": "code",
      "source": [
        "temp_range = 47\n",
        "interval = 0.5\n",
        "values_per_marking = pow(10, 6)\n",
        "sig_low = 0.2\n",
        "sig_high = 0.4\n",
        "tmp_rnge_interval = (int) (temp_range / interval)\n",
        "\n",
        "measured_temp = [[] for x in range(tmp_rnge_interval + 1)] \n",
        "temp_err_sigma = [] # stores sd of all temperature's error distributions\n",
        "for i in range(tmp_rnge_interval + 1):\n",
        "    mu = i/2\n",
        "    sigma = random.uniform(sig_low, sig_high)\n",
        "    temp_err_sigma.append(sigma)\n",
        "    measured_temp[i] = np.random.normal(mu, sigma, values_per_marking)"
      ],
      "metadata": {
        "id": "XMSm57Lz8om7"
      },
      "execution_count": 61,
      "outputs": []
    },
    {
      "cell_type": "markdown",
      "source": [
        "## Error Distribution Plotter for Particular Temperature"
      ],
      "metadata": {
        "id": "ZdDFkMW9LYuD"
      }
    },
    {
      "cell_type": "code",
      "source": [
        "# Function to plot error distribution for a particular temperature 'x'\n",
        "def plot_hist_x(x):\n",
        "  \"\"\"\n",
        "    Input: Given a temperature x\n",
        "    Output: Plots the error distribution for the temperature 'x'\n",
        "  \"\"\"\n",
        "  plt.hist(measured_temp[2 * x], bins = 1000, density = True, label = \"Distribution of {}\".format(x), histtype = \"step\")\n",
        "  plt.legend()\n",
        "  plt.show()"
      ],
      "metadata": {
        "id": "zncZU4Gg9t5j"
      },
      "execution_count": 62,
      "outputs": []
    },
    {
      "cell_type": "code",
      "source": [
        "# Plotting error distributions for certain values of temperatures\n",
        "plot_hist_x(21)\n",
        "plot_hist_x(44)"
      ],
      "metadata": {
        "colab": {
          "base_uri": "https://localhost:8080/",
          "height": 513
        },
        "id": "UaiF67Vu-CwI",
        "outputId": "d429fe7c-a192-4e04-fc61-3f83a9af3170"
      },
      "execution_count": 69,
      "outputs": [
        {
          "output_type": "display_data",
          "data": {
            "text/plain": [
              "<Figure size 432x288 with 1 Axes>"
            ],
            "image/png": "[encoded data removed]"
          },
          "metadata": {
            "needs_background": "light"
          }
        },
        {
          "output_type": "display_data",
          "data": {
            "text/plain": [
              "<Figure size 432x288 with 1 Axes>"
            ],
            "image/png": "[encoded data removed]"
          },
          "metadata": {
            "needs_background": "light"
          }
        }
      ]
    },
    {
      "cell_type": "markdown",
      "source": [
        "## Probability Distribution of Error\n",
        "\n",
        "It returns the probability distribution of error\n",
        "\n",
        "1. prob_err: It holds the probabilities of error\n",
        "\n"
      ],
      "metadata": {
        "id": "2BO4LrfAMKjU"
      }
    },
    {
      "cell_type": "code",
      "source": [
        "# Probability Distribution of Error\n",
        "def prob_err_dist():\n",
        "  \"\"\"\n",
        "    Input: No input parameter\n",
        "    Output: It returns the probabilities of error\n",
        "  \"\"\"\n",
        "  prob_err = []  \n",
        "  for i in range(tmp_rnge_interval + 1):\n",
        "    count = 0\n",
        "    for j in range(values_per_marking):\n",
        "        if ((measured_temp[i][j] > (i/2 + interval)) or (measured_temp[i][j] < (i/2 - interval))):\n",
        "            count = count + 1\n",
        "    prob_err.append(count/values_per_marking)\n",
        "  return prob_err"
      ],
      "metadata": {
        "id": "20IxIvW8_XMk"
      },
      "execution_count": 64,
      "outputs": []
    },
    {
      "cell_type": "code",
      "source": [
        "# Plotting the Probability Distribution of Error\n",
        "\n",
        "prob_err_dist = prob_err_dist()\n",
        "plt.hist(prob_err_dist, bins = 100)\n",
        "plt.show()"
      ],
      "metadata": {
        "colab": {
          "base_uri": "https://localhost:8080/",
          "height": 265
        },
        "id": "d5vveVUMCvc3",
        "outputId": "22930b9d-d0ec-4008-fe0b-fc24e9634962"
      },
      "execution_count": 65,
      "outputs": [
        {
          "output_type": "display_data",
          "data": {
            "text/plain": [
              "<Figure size 432x288 with 1 Axes>"
            ],
            "image/png": "[encoded data removed]"
          },
          "metadata": {
            "needs_background": "light"
          }
        }
      ]
    },
    {
      "cell_type": "markdown",
      "source": [
        "## Setting values to define Mid-range and End-ranges"
      ],
      "metadata": {
        "id": "qqX6bNR6MxTG"
      }
    },
    {
      "cell_type": "code",
      "source": [
        "# Setting Variables\n",
        "\n",
        "low = 1\n",
        "mid_1 = 4\n",
        "mid_2 = 7\n",
        "high = 10\n",
        "\n",
        "mid_range_low = (int) (((mid_1 - low)/ (high - low)) * tmp_rnge_interval)\n",
        "mid_range_high = (int) (((mid_2 - low)/ (high - low)) * tmp_rnge_interval)\n",
        "\n",
        "end_range_low = (int) (((low)/ (high - low)) * tmp_rnge_interval)\n",
        "end_range_high = (int) (((mid_2)/ (high - low)) * tmp_rnge_interval)"
      ],
      "metadata": {
        "id": "BBBoUuKxELNW"
      },
      "execution_count": 66,
      "outputs": []
    },
    {
      "cell_type": "markdown",
      "source": [
        "## Calculating Probability of occurence of a true temperature and the associated cost of error for each temperature\n",
        "\n",
        "1. true_temp_prob: It stores the probability of a true temperature occurring\n",
        "\n",
        "2. error_cost: It stores the cost of error for each temperature\n",
        "\n",
        "The fundamental idea is more probability is assigned to temperatures in the mid-range and drops out gradually towards the end while more cost is assigned for errors at extremes or end-range and drops gradually as we move towards the centre (mid-range)"
      ],
      "metadata": {
        "id": "3x6bAqfdNPBN"
      }
    },
    {
      "cell_type": "code",
      "source": [
        "# Initializing Variables\n",
        "true_temp_prob = [0 for x in range(tmp_rnge_interval + 1)]  \n",
        "err_cost = [0 for x in range(tmp_rnge_interval + 1)]   \n",
        "\n",
        "# Assigning Probability of Occurence of True Temperatures\n",
        "for i in range(tmp_rnge_interval + 1):\n",
        "    if i >= mid_range_low and i <= mid_range_high:\n",
        "        true_temp_prob[i] = random.uniform(mid_2, high)     \n",
        "    elif i < end_range_low or i > end_range_high:\n",
        "        true_temp_prob[i] = random.uniform(low, mid_1) \n",
        "    else:\n",
        "        true_temp_prob[i] = random.uniform(mid_1, mid_2)\n",
        "\n",
        "# Sum of True Temp Probabilities\n",
        "sum = 0\n",
        "for i in range(tmp_rnge_interval + 1):\n",
        "    sum = sum + true_temp_prob[i]\n",
        "\n",
        "# Normalizing the probabilities to make them sum up to 1\n",
        "for i in range(tmp_rnge_interval + 1):         \n",
        "    true_temp_prob[i] = true_temp_prob[i] / sum\n",
        "\n",
        "# Assigning Cost of Error for each temperature\n",
        "for i in range(tmp_rnge_interval + 1):\n",
        "    if i >= mid_range_low and i <= mid_range_high:\n",
        "        err_cost[i] = random.uniform(low, mid_1)   \n",
        "    elif i < end_range_low or i > end_range_high:\n",
        "        err_cost[i] = random.uniform(mid_2, high)    \n",
        "    else:                                 \n",
        "        err_cost[i] = random.uniform(mid_1, mid_2)"
      ],
      "metadata": {
        "id": "JQgQSWclDKf4"
      },
      "execution_count": 67,
      "outputs": []
    },
    {
      "cell_type": "markdown",
      "source": [
        "## Calculating the Probability of Occurence of Error and the Expected Cost"
      ],
      "metadata": {
        "id": "Ldq8B8lcRBzE"
      }
    },
    {
      "cell_type": "code",
      "source": [
        "# Probability of Occurence of Error\n",
        "prob_err = 0\n",
        "for i in range(tmp_rnge_interval + 1):\n",
        "    prob_err = prob_err + prob_err_dist[i] * true_temp_prob[i]\n",
        "print(\"Probality of Occurence of an Error: {}\".format(prob_err))\n",
        "\n",
        "# Expected Cost\n",
        "exp_cost = 0\n",
        "for i in range(tmp_rnge_interval + 1):\n",
        "    exp_cost = exp_cost + prob_err_dist[i] * true_temp_prob[i] * err_cost[i]\n",
        "print(\"Expected Cost: {}\".format(exp_cost))"
      ],
      "metadata": {
        "colab": {
          "base_uri": "https://localhost:8080/"
        },
        "id": "w_T0zK4wH7HX",
        "outputId": "412945de-caf8-426b-8287-82d4a43bbd25"
      },
      "execution_count": 68,
      "outputs": [
        {
          "output_type": "stream",
          "name": "stdout",
          "text": [
            "Probality of Occurence of an Error: 0.1027725405657727\n",
            "Expected Cost: 0.46484271933344895\n"
          ]
        }
      ]
    }
  ]
}