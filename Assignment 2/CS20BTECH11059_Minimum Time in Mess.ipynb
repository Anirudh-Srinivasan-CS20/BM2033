{
  "nbformat": 4,
  "nbformat_minor": 0,
  "metadata": {
    "colab": {
      "provenance": []
    },
    "kernelspec": {
      "name": "python3",
      "display_name": "Python 3"
    },
    "language_info": {
      "name": "python"
    }
  },
  "cells": [
    {
      "cell_type": "markdown",
      "source": [
        "#                              Minimum Time in Mess Simulation\n",
        "###                       BM2033: Probability and Random Variables\n",
        "Anirudh Srinivasan (CS20BTECH11059)"
      ],
      "metadata": {
        "id": "n-NehxD3YXFR"
      }
    },
    {
      "cell_type": "markdown",
      "source": [
        "# Importing Libraries"
      ],
      "metadata": {
        "id": "RV3cavCH5OTk"
      }
    },
    {
      "cell_type": "code",
      "execution_count": 38,
      "metadata": {
        "id": "jy_ilYWmXCS-"
      },
      "outputs": [],
      "source": [
        "# Importing all the libraries\n",
        "import numpy as np\n",
        "import matplotlib.pyplot as plt"
      ]
    },
    {
      "cell_type": "markdown",
      "source": [
        "# Assumptions about the Problem Statement:\n",
        "\n",
        "\n",
        "1. There are basically 2 time intervals that we have to consider in order to find the total time spent in the mess. It is waiting time in the queue and the eating time. Since the mess is of infinite capacity, there won't be waiting time for finding a place to sit. In this, we are ignoring the time spent with friends in the mess. Basically, the time that you spend on eating, depends only on you and not on any other external influence (independence)\n",
        "\n",
        "2. Let entry_time be the distribution of entering time and serving_time be the distribution of serving time. \n",
        "\n",
        "3. The entry time will be a normal distribution, while the serving time will be a constant uniform distribution. The time taken for eating also will be a constant uniform distribution.\n",
        "\n",
        "4. Exit rates won't matter since the mess is of infinite capacity\n",
        "\n",
        "4. The only thing that we can optimize is that of the waiting time in the queue and serving rate by the caterers\n",
        "\n",
        "\n",
        "\n",
        "\n",
        "\n",
        "\n",
        "\n"
      ],
      "metadata": {
        "id": "dB-4bqzJXX2l"
      }
    },
    {
      "cell_type": "markdown",
      "source": [
        "# Distributions of various time intervals\n",
        "1. entry_time: Normal Distribution wrt to starting time, where mu around 1:30 PM and sigma around 10 mins. The reason for assuming the normal distribution will peak around 1:30 PM which is 60 mins after the starting time is due to the fact that LA classes get over around 1 PM and people having class at 2:30 PM might come around 1:50 PM.\n",
        "\n",
        "2. serving_time: Uniform Distribution wrt time when the person enters the queue. We'll include time taken for finding a place and sitting also into consideration for this. An assumption is made so that, it takes 4 mins for serving + sitting.\n",
        "\n",
        "3. eating_time: Again, this is a constant uniform distribution. We assume a person takes 10 mins on an average for eating."
      ],
      "metadata": {
        "id": "78eQQOtM5XNG"
      }
    },
    {
      "cell_type": "code",
      "source": [
        "# Simulation values for parameters of the distribution\n",
        "\n",
        "entry_time = np.random.normal(60, 10, pow(10,6))\n",
        "serving_time = np.random.uniform(2, 6, pow(10,6)) \n",
        "eating_time = np.random.uniform(7, 13, pow(10,6))  "
      ],
      "metadata": {
        "id": "n1lKh8u4XHj7"
      },
      "execution_count": 39,
      "outputs": []
    },
    {
      "cell_type": "markdown",
      "source": [
        "# Total Time Taken Calculation and net_time graph"
      ],
      "metadata": {
        "id": "PD6Vu6Jm7kCo"
      }
    },
    {
      "cell_type": "code",
      "source": [
        "# Calculation of total time taken and plotting the respective distributions\n",
        "\n",
        "net_time = entry_time + serving_time + eating_time # in mins\n",
        "\n",
        "plt.hist(entry_time, bins = 1000, histtype = \"step\", density = True, label = \"Entry time\")\n",
        "plt.hist(serving_time, bins = 1000, histtype = \"step\", density = True, label = \"Serving time\")\n",
        "plt.hist(eating_time, bins = 1000, histtype = \"step\", density = True, label = \"Eating time\")\n",
        "\n",
        "plt.hist(net_time, bins = 1000, histtype = \"step\", density = True, label = \"Net time\")\n",
        "plt.legend()\n",
        "plt.show()"
      ],
      "metadata": {
        "colab": {
          "base_uri": "https://localhost:8080/",
          "height": 265
        },
        "id": "8R7zWB-I48lD",
        "outputId": "34c494a8-2ffa-4eef-e6ed-8e389c729800"
      },
      "execution_count": 40,
      "outputs": [
        {
          "output_type": "display_data",
          "data": {
            "text/plain": [
              "<Figure size 432x288 with 1 Axes>"
            ],
            "image/png": "[encoded data removed]"
          },
          "metadata": {
            "needs_background": "light"
          }
        }
      ]
    },
    {
      "cell_type": "markdown",
      "source": [
        "# Final Prediction of time to come to mess to minimize time spent inside mess"
      ],
      "metadata": {
        "id": "2Q6cXP1a7sBZ"
      }
    },
    {
      "cell_type": "code",
      "source": [
        "# Final Prediction\n",
        "\n",
        "print(\"Time to come to mess: {} mins after starting time of 12:30 PM\".format(min(net_time)))"
      ],
      "metadata": {
        "colab": {
          "base_uri": "https://localhost:8080/"
        },
        "id": "Q6kAtW5F5DDX",
        "outputId": "bf206431-e50a-4575-dd01-1f3d1df79e75"
      },
      "execution_count": 41,
      "outputs": [
        {
          "output_type": "stream",
          "name": "stdout",
          "text": [
            "Time to come to mess: 26.57304980292507 mins after starting time of 12:30 PM\n"
          ]
        }
      ]
    }
  ]
}