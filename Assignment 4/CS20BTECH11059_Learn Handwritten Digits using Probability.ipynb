{
  "nbformat": 4,
  "nbformat_minor": 0,
  "metadata": {
    "colab": {
      "provenance": []
    },
    "kernelspec": {
      "name": "python3",
      "display_name": "Python 3"
    },
    "language_info": {
      "name": "python"
    }
  },
  "cells": [
    {
      "cell_type": "markdown",
      "source": [
        "#                              Learn Handwritten Digits using Probability Program\n",
        "###                       BM2033: Probability and Random Variables\n",
        "Anirudh Srinivasan (CS20BTECH11059)"
      ],
      "metadata": {
        "id": "YShP-h_hayNy"
      }
    },
    {
      "cell_type": "code",
      "execution_count": 1,
      "metadata": {
        "id": "uROpEl6TahRr"
      },
      "outputs": [],
      "source": [
        "# Importing all the required libraries\n",
        "import cv2\n",
        "import numpy\n",
        "import sys\n",
        "numpy.set_printoptions(threshold=sys.maxsize) \n",
        "import matplotlib.pyplot as plt"
      ]
    },
    {
      "cell_type": "code",
      "source": [
        "# Mounting Google Drive\n",
        "from google.colab import drive\n",
        "drive.mount('/content/gdrive')"
      ],
      "metadata": {
        "colab": {
          "base_uri": "https://localhost:8080/"
        },
        "id": "z9kw5xAKcjvm",
        "outputId": "b99de2e7-55f9-41b7-d0a4-8f0a49e2737d"
      },
      "execution_count": 2,
      "outputs": [
        {
          "output_type": "stream",
          "name": "stdout",
          "text": [
            "Mounted at /content/gdrive\n"
          ]
        }
      ]
    },
    {
      "cell_type": "markdown",
      "source": [
        "# Global Variables\n",
        "\n",
        "1.   n is the dimensions in n x n pixel matrix\n",
        "2.   threshold is the value of the pixel below which it will be considered as 1 in the binary image array\n",
        "\n",
        "\n",
        "\n",
        "\n"
      ],
      "metadata": {
        "id": "u1BbU56NCVuR"
      }
    },
    {
      "cell_type": "code",
      "source": [
        "# Global Variables\n",
        "n = 4\n",
        "threshold = 200"
      ],
      "metadata": {
        "id": "bB9VIxZTCG9L"
      },
      "execution_count": 3,
      "outputs": []
    },
    {
      "cell_type": "markdown",
      "source": [
        "# Functions\n",
        "## I. train_bin_arr\n",
        "This function returns the binary marking arrays of the images\n",
        "1. The image is converted RGB to grayscale. This instead of a triplet of [0,255], it's a scale from [0,255] with higher values moving towards white\n",
        "2. The threshold value is used to decide if a pixel is marked or not marked\n",
        "3. numbers are the number of training samples and their nomenclature is done in such a way that they are numbers (inside respective folders for zero and one)\n"
      ],
      "metadata": {
        "id": "vYrsIiQ_Frrt"
      }
    },
    {
      "cell_type": "code",
      "source": [
        "# Function to return the binary arrays\n",
        "def train_bin_arr(path, ext, numbers):\n",
        "  \"\"\"\n",
        "    Input: The path, extension of the training images along with the number of training samples. \n",
        "           Note that: The training samples have to be named as increasing natural numbers for this code to work\n",
        "    Output: It returns the binary marked arrays for the training samples for the handwritten digits\n",
        "  \"\"\"\n",
        "  bin_arr = [] # bin_arr stores binary arrays of zeroes or ones\n",
        "  for i in range(0, len(numbers)-1): \n",
        "    img = cv2.imread(path + numbers[i] + ext) # Reads image from disc\n",
        "    res = cv2.resize(img, (n, n), interpolation = cv2.INTER_CUBIC) # Resize image to desired n*n size, here n = 4\n",
        "    gray = cv2.cvtColor(res, cv2.COLOR_BGR2GRAY) # Converts image to grayscale from RGB\n",
        "    arr=[] \n",
        "    rows, cols = n, n \n",
        "    for i in range(rows): \n",
        "      col = [] \n",
        "      for j in range(cols): \n",
        "        if(gray[i][j] < threshold): \n",
        "          col.append(1) \n",
        "        else: \n",
        "          col.append(0) \n",
        "      arr.append(col) \n",
        "  bin_arr.append(arr)\n",
        "  return bin_arr"
      ],
      "metadata": {
        "id": "LcmMMVNZg4JJ"
      },
      "execution_count": 4,
      "outputs": []
    },
    {
      "cell_type": "markdown",
      "source": [
        "# Training Data\n",
        "Trying to store the binary arrays of pixel marked for zeroes and ones in the training samples. These pixel values will be compared with the binary pixel marked array of the testing data and based on the similarity, the predicted value will be returned."
      ],
      "metadata": {
        "id": "cfcQbS7-F20e"
      }
    },
    {
      "cell_type": "code",
      "source": [
        "# Training Data\n",
        "\n",
        "numbers = ['1','2','3','4','5','6','7','8','9','10','11'] \n",
        "\n",
        "bin_zeroes = train_bin_arr(\"/content/gdrive/MyDrive/BM2033 - Learn Handwritten Digits using Probability/Training Data/Zero/\", \".jpg\", numbers)\n",
        "bin_ones = train_bin_arr(\"/content/gdrive/MyDrive/BM2033 - Learn Handwritten Digits using Probability/Training Data/One/\", \".jpg\", numbers)"
      ],
      "metadata": {
        "id": "wGxwBcB9gPRZ"
      },
      "execution_count": 5,
      "outputs": []
    },
    {
      "cell_type": "markdown",
      "source": [
        "## II. p_given_x\n",
        "1. P_given_X will store probabilty of i'th pixel begin marked for given image of a handwritten 'x'. \n",
        "2. The function converts a 2-D binary matrix to 1-D array."
      ],
      "metadata": {
        "id": "gAySqFNdGcV4"
      }
    },
    {
      "cell_type": "code",
      "source": [
        "def p_given_x(P_given_x, bin_arr):\n",
        "  \"\"\"\n",
        "    Input: P_given_x array to store the probability of ith pixel being 1 given that number is x\n",
        "           bin_arr to pass either bin_zeroes or bin_ones from the training binary matrices\n",
        "    \n",
        "    Output: Returns the 2-D Binary Matrix to an 1-D Array\n",
        "  \"\"\"\n",
        "  for arr in bin_arr: \n",
        "    rows, cols = n, n \n",
        "    for i in range(0, n-1): \n",
        "      for j in range(0, n-1): \n",
        "        P_given_x[(i)*n + j] = P_given_x[(i)*n + j] + arr[i][j]\n",
        "  return P_given_x"
      ],
      "metadata": {
        "id": "ZFilPhxMSJWv"
      },
      "execution_count": 6,
      "outputs": []
    },
    {
      "cell_type": "markdown",
      "source": [
        "## Calculating P_given_x for x = {0, 1}"
      ],
      "metadata": {
        "id": "vyhSAuu3HPPl"
      }
    },
    {
      "cell_type": "code",
      "source": [
        "P_given_0 = [0]*(n*n) # Stores probabiltiy of ith pixel being one given that number is zero\n",
        "P_given_0 = p_given_x(P_given_0, bin_zeroes)\n",
        "print(P_given_0)\n",
        "\n",
        "P_given_1 = [0]*(n*n) # Stores probabiltiy of ith pixel being one given that number is one\n",
        "P_given_1 = p_given_x(P_given_1, bin_ones)\n",
        "print(P_given_1)"
      ],
      "metadata": {
        "colab": {
          "base_uri": "https://localhost:8080/"
        },
        "id": "tr9lglzfSomE",
        "outputId": "faad1d83-8ae7-4d35-80e6-0b1d0920a7ff"
      },
      "execution_count": 7,
      "outputs": [
        {
          "output_type": "stream",
          "name": "stdout",
          "text": [
            "[0, 0, 0, 0, 1, 0, 1, 0, 1, 0, 0, 0, 0, 0, 0, 0]\n",
            "[0, 0, 0, 0, 0, 1, 0, 0, 0, 1, 0, 0, 0, 0, 0, 0]\n"
          ]
        }
      ]
    },
    {
      "cell_type": "markdown",
      "source": [
        "## III. prob_pix_marked\n",
        "1. This function normalizes the P_given_num array to get probabilties in range of 0 to 1. \n",
        "2. This also plots the probabilty of pixel being marked for n x n pixels\n",
        "3. This also trims down the probabilities below 0.01 to 0 to reduce noise"
      ],
      "metadata": {
        "id": "gG73k1saHaZG"
      }
    },
    {
      "cell_type": "code",
      "source": [
        "def prob_pix_marked(P_given_num):\n",
        "  \"\"\"\n",
        "    Input: Conditional probability: P_given_num where num = {0, 1}\n",
        "    \n",
        "    Output: Plots the probability of pixel being marked 1 for n x n pixels\n",
        "  \"\"\"\n",
        "  P_given_num = P_given_num/ numpy.sum(P_given_num)\n",
        "  for i in (0, len(P_given_num)-1): \n",
        "    if(P_given_num[i] < 0.01): \n",
        "      P_given_num[i] = 0\n",
        "  x = numpy.arange(0, n*n) \n",
        "  plt.xlabel(\"Pixel number\") \n",
        "  plt.ylabel(\"Probability of pixel begin marked\") \n",
        "  plt.plot(x, P_given_num, color = \"blue\") \n",
        "  plt.show()"
      ],
      "metadata": {
        "id": "Vf45taexTG5W"
      },
      "execution_count": 8,
      "outputs": []
    },
    {
      "cell_type": "markdown",
      "source": [
        "## Plotting prob_pix_marked for num = {0, 1}"
      ],
      "metadata": {
        "id": "ghohbDUPHwDE"
      }
    },
    {
      "cell_type": "code",
      "source": [
        "# Probability of pixels being marked\n",
        "prob_pix_marked(P_given_0)\n",
        "prob_pix_marked(P_given_1)"
      ],
      "metadata": {
        "colab": {
          "base_uri": "https://localhost:8080/",
          "height": 545
        },
        "id": "MQ5TE84oHFjt",
        "outputId": "eaa0ad35-2143-4323-b3d0-c9af3306e5e3"
      },
      "execution_count": 9,
      "outputs": [
        {
          "output_type": "display_data",
          "data": {
            "text/plain": [
              "<Figure size 432x288 with 1 Axes>"
            ],
            "image/png": "[encoded data removed]"
          },
          "metadata": {
            "needs_background": "light"
          }
        },
        {
          "output_type": "display_data",
          "data": {
            "text/plain": [
              "<Figure size 432x288 with 1 Axes>"
            ],
            "image/png": "[encoded data removed]"
          },
          "metadata": {
            "needs_background": "light"
          }
        }
      ]
    },
    {
      "cell_type": "markdown",
      "source": [
        "## IV. pixel_match\n",
        "1. This function checks if the pixel being marked in test_arr image was expected there based on conditional probabilities (P_given_num) arrays we have already. \n",
        "2. It returns the percentage of matched pixels.\n",
        "3. If the percentage of pixel pattern matched with array of P_given_num, validates that given image is probably 'num'."
      ],
      "metadata": {
        "id": "b8delQdyJHJf"
      }
    },
    {
      "cell_type": "code",
      "source": [
        "def pixel_match(test_arr, P_given_num):\n",
        "  \"\"\"\n",
        "    Input: Given a test array and conditional probability arrays for {0, 1}\n",
        "    Output: It returns the percentage match of pixels for the test array wrt the existing arrays\n",
        "  \"\"\"\n",
        "  matched = 0 \n",
        "  for i in range(0, n**2 - 1): \n",
        "    if(test_arr[i] * P_given_num[i] > 0): \n",
        "      matched = matched + 1 \n",
        "  #print(\"Matched = {}\".format(matched))\n",
        "  return (matched*100/(n**2))"
      ],
      "metadata": {
        "id": "FbEU6kJ6By55"
      },
      "execution_count": 10,
      "outputs": []
    },
    {
      "cell_type": "markdown",
      "source": [
        "## V. predictor\n",
        "1. This function checks the pixel_match values and based on the percentage, prints whether the given digit is zero or one\n",
        "2. If the decision is inconclusive (equal pixel match values), then it returns it can be either 0 or 1"
      ],
      "metadata": {
        "id": "jihzqNynKULN"
      }
    },
    {
      "cell_type": "code",
      "source": [
        "def predictor(test_arr):\n",
        "  \"\"\"\n",
        "    Input: Given a test array\n",
        "    Output: Predicts whether the binary pixel matrix is of 0 or 1\n",
        "  \"\"\"\n",
        "\n",
        "  res_arr = []\n",
        "  if pixel_match(test_arr, P_given_0) > pixel_match(test_arr, P_given_1):\n",
        "    print(\"The digit is 0\")\n",
        "  elif pixel_match(test_arr, P_given_0) < pixel_match(test_arr, P_given_1):\n",
        "    print(\"The digit is 1\")\n",
        "  else:\n",
        "    print(\"The digit can be either 0 or 1\") "
      ],
      "metadata": {
        "id": "Ug_KJ5mUEg5K"
      },
      "execution_count": 11,
      "outputs": []
    },
    {
      "cell_type": "markdown",
      "source": [
        "## VI. test_arr\n",
        "1. img, res and gray are processing variables and storing grayscale n x n size images in gray. \n",
        "2. Test_arr stores the binary pixel matrix (Flattend in n x n array rather than a n x n 2-D matrix)"
      ],
      "metadata": {
        "id": "0YWcvA1MJRVg"
      }
    },
    {
      "cell_type": "code",
      "source": [
        "def test_arr(path, ext):\n",
        "    \"\"\"\n",
        "      Input: Given path and extension type of the test image\n",
        "      Output: Returns the binary pixel matrix for the given image\n",
        "    \"\"\"\n",
        "    img = cv2.imread(path + \"1\" + ext)\n",
        "    res = cv2.resize(img, (n, n), interpolation = cv2.INTER_CUBIC) \n",
        "    gray = cv2.cvtColor(res, cv2.COLOR_BGR2GRAY) \n",
        "    test_arr = [] \n",
        "    rows, cols = n, n \n",
        "    for i in range(rows): \n",
        "      for j in range(cols): \n",
        "        if(gray[i][j] < threshold): \n",
        "          test_arr.append(1) \n",
        "        else: \n",
        "          test_arr.append(0)\n",
        "    return test_arr"
      ],
      "metadata": {
        "id": "us9a9fCyI-8V"
      },
      "execution_count": 12,
      "outputs": []
    },
    {
      "cell_type": "markdown",
      "source": [
        "# Testing Data\n",
        "1. Read test digts\n",
        "2. Compare their binary pixel matrix with the probabiltiy matrices\n",
        "3. Predict whether the given digit is 0 or 1"
      ],
      "metadata": {
        "id": "kb3YVppGIv7X"
      }
    },
    {
      "cell_type": "code",
      "source": [
        "# Reading the Test Data\n",
        "\n",
        "test_zero_arr = test_arr(\"/content/gdrive/MyDrive/BM2033 - Learn Handwritten Digits using Probability/Test Data/Zeroes/\", \".jpeg\")\n",
        "test_one_arr = test_arr(\"/content/gdrive/MyDrive/BM2033 - Learn Handwritten Digits using Probability/Test Data/Ones/\", \".jpeg\")\n",
        "print(test_zero_arr)\n",
        "print(test_one_arr)"
      ],
      "metadata": {
        "colab": {
          "base_uri": "https://localhost:8080/"
        },
        "id": "NF525qGXGqry",
        "outputId": "3f10d6cb-f1ac-4c14-a037-aa5181606795"
      },
      "execution_count": 13,
      "outputs": [
        {
          "output_type": "stream",
          "name": "stdout",
          "text": [
            "[0, 0, 0, 0, 0, 0, 0, 1, 1, 0, 1, 0, 0, 0, 0, 0]\n",
            "[0, 0, 0, 0, 0, 1, 0, 0, 0, 0, 1, 0, 0, 0, 0, 0]\n"
          ]
        }
      ]
    },
    {
      "cell_type": "markdown",
      "source": [
        "# Predicting the Handwritten Digit from the Test Data"
      ],
      "metadata": {
        "id": "pRFv0fMSKznZ"
      }
    },
    {
      "cell_type": "code",
      "source": [
        "print(\"Testing Digit 0 from Test Data\")\n",
        "print(\"Pixel Match percentage with 0: {}\".format(pixel_match(test_zero_arr, P_given_0)))\n",
        "print(\"Pixel Match percentage with 1: {}\".format(pixel_match(test_zero_arr, P_given_1)))\n",
        "predictor(test_zero_arr)\n",
        "\n",
        "print(\"\\nTesting Digit 1 from Test Data\")\n",
        "print(\"Pixel Match percentage with 0: {}\".format(pixel_match(test_one_arr, P_given_0)))\n",
        "print(\"Pixel Match percentage with 1: {}\".format(pixel_match(test_one_arr, P_given_1)))\n",
        "predictor(test_one_arr)"
      ],
      "metadata": {
        "colab": {
          "base_uri": "https://localhost:8080/"
        },
        "id": "7rEBfoUHJT-h",
        "outputId": "dc23f9d9-5a11-4b0e-aaad-2c1a39fec74b"
      },
      "execution_count": 14,
      "outputs": [
        {
          "output_type": "stream",
          "name": "stdout",
          "text": [
            "Testing Digit 0 from Test Data\n",
            "Pixel Match percentage with 0: 6.25\n",
            "Pixel Match percentage with 1: 0.0\n",
            "The digit is 0\n",
            "\n",
            "Testing Digit 1 from Test Data\n",
            "Pixel Match percentage with 0: 0.0\n",
            "Pixel Match percentage with 1: 6.25\n",
            "The digit is 1\n"
          ]
        }
      ]
    }
  ]
}